{
  "nbformat": 4,
  "nbformat_minor": 0,
  "metadata": {
    "colab": {
      "provenance": []
    },
    "kernelspec": {
      "name": "python3",
      "display_name": "Python 3"
    },
    "language_info": {
      "name": "python"
    }
  },
  "cells": [
    {
      "cell_type": "markdown",
      "source": [
        "# 💡 **Question 1**\n",
        "\n",
        "Given an integer `n`, return *`true` if it is a power of three. Otherwise, return `false`*.\n",
        "\n",
        "An integer `n` is a power of three, if there exists an integer `x` such that `n == 3x`.\n",
        "\n",
        "**Example 1:**\n",
        "Input: n = 27\n",
        "Output: true\n",
        "Explanation: 27 = 33\n",
        "\n",
        "**Example 2:**\n",
        "Input: n = 0\n",
        "Output: false\n",
        "Explanation: There is no x where 3x = 0.\n",
        "\n",
        "**Example 3:**\n",
        "Input: n = -1\n",
        "Output: false\n",
        "Explanation: There is no x where 3x = (-1)."
      ],
      "metadata": {
        "id": "Rj8SfrsMToiT"
      }
    },
    {
      "cell_type": "code",
      "execution_count": null,
      "metadata": {
        "colab": {
          "base_uri": "https://localhost:8080/"
        },
        "id": "7HIYeAPDTloQ",
        "outputId": "ebd7f35c-9a60-4603-953a-ba626e7d2270"
      },
      "outputs": [
        {
          "output_type": "stream",
          "name": "stdout",
          "text": [
            "True\n",
            "False\n",
            "False\n"
          ]
        }
      ],
      "source": [
        "def powerOfThree(n):\n",
        "    if n <= 0:\n",
        "        return False\n",
        "    while n % 3 == 0:\n",
        "        n /= 3\n",
        "    return n == 1\n",
        "\n",
        "print(powerOfThree(27))\n",
        "print(powerOfThree(0)) \n",
        "print(powerOfThree(-1))"
      ]
    },
    {
      "cell_type": "markdown",
      "source": [
        "# 💡 **Question 2**\n",
        "\n",
        "You have a list `arr` of all integers in the range `[1, n]` sorted in a strictly increasing order. Apply the following algorithm on `arr`:\n",
        "\n",
        "- Starting from left to right, remove the first number and every other number afterward until you reach the end of the list.\n",
        "- Repeat the previous step again, but this time from right to left, remove the rightmost number and every other number from the remaining numbers.\n",
        "- Keep repeating the steps again, alternating left to right and right to left, until a single number remains.\n",
        "\n",
        "Given the integer `n`, return *the last number that remains in* `arr`.\n",
        "\n",
        "**Example 1:**\n",
        "Input: n = 9\n",
        "Output: 6\n",
        "Explanation:\n",
        "arr = [1, 2,3, 4,5, 6,7, 8,9]\n",
        "arr = [2,4, 6,8]\n",
        "arr = [2, 6]\n",
        "arr = [6]\n",
        "\n",
        "**Example 2:**\n",
        "Input: n = 1\n",
        "Output: 1"
      ],
      "metadata": {
        "id": "ACSXw5QcT7XT"
      }
    },
    {
      "cell_type": "code",
      "source": [
        "def lastRemaining(n):\n",
        "    left_to_right = True\n",
        "    remaining = n\n",
        "    step = 1\n",
        "    head = 1\n",
        "\n",
        "    while remaining > 1:\n",
        "        if left_to_right or remaining % 2 == 1:\n",
        "            head += step\n",
        "\n",
        "        remaining //= 2\n",
        "        step *= 2\n",
        "        left_to_right = not left_to_right\n",
        "\n",
        "    return head\n",
        "\n",
        "print(lastRemaining(9))\n",
        "print(lastRemaining(1))"
      ],
      "metadata": {
        "colab": {
          "base_uri": "https://localhost:8080/"
        },
        "id": "QqttP8N6UNq2",
        "outputId": "75b90b63-1a92-4baf-fd94-f900a094c432"
      },
      "execution_count": null,
      "outputs": [
        {
          "output_type": "stream",
          "name": "stdout",
          "text": [
            "6\n",
            "1\n"
          ]
        }
      ]
    },
    {
      "cell_type": "markdown",
      "source": [
        "#💡 **Question 3**\n",
        "\n",
        "Given a set represented as a string, write a recursive code to print all subsets of it. The subsets can be printed in any order.\n",
        "\n",
        "**Example 1:**\n",
        "\n",
        "Input :  set = “abc”\n",
        "\n",
        "Output : { “”, “a”, “b”, “c”, “ab”, “ac”, “bc”, “abc”}\n",
        "\n",
        "**Example 2:**\n",
        "\n",
        "Input : set = “abcd”\n",
        "\n",
        "Output : { “”, “a” ,”ab” ,”abc” ,”abcd”, “abd” ,”ac” ,”acd”, “ad” ,”b”, “bc” ,”bcd” ,”bd” ,”c” ,”cd” ,”d” }"
      ],
      "metadata": {
        "id": "qaJOWEbBUOpF"
      }
    },
    {
      "cell_type": "code",
      "source": [
        "def generateSubsets(s, current_subset, index, subsets):\n",
        "    subsets.append(current_subset)\n",
        "\n",
        "    for i in range(index, len(s)):\n",
        "        generateSubsets(s, current_subset + s[i], i + 1, subsets)\n",
        "\n",
        "\n",
        "def getSubsets(s):\n",
        "    subsets = []\n",
        "    generateSubsets(s, \"\", 0, subsets)\n",
        "    return subsets\n",
        "\n",
        "print(getSubsets(\"abc\"))\n",
        "print(getSubsets(\"abcd\"))"
      ],
      "metadata": {
        "colab": {
          "base_uri": "https://localhost:8080/"
        },
        "id": "P41euJkfUWVd",
        "outputId": "13edd14a-0398-4147-d8da-6bf97de844c2"
      },
      "execution_count": null,
      "outputs": [
        {
          "output_type": "stream",
          "name": "stdout",
          "text": [
            "['', 'a', 'ab', 'abc', 'ac', 'b', 'bc', 'c']\n",
            "['', 'a', 'ab', 'abc', 'abcd', 'abd', 'ac', 'acd', 'ad', 'b', 'bc', 'bcd', 'bd', 'c', 'cd', 'd']\n"
          ]
        }
      ]
    },
    {
      "cell_type": "markdown",
      "source": [
        "#💡 **Question 4**\n",
        "\n",
        "Given a string calculate length of the string using recursion.\n",
        "\n",
        "**Examples:**\n",
        "Input : str = \"abcd\"\n",
        "Output :4\n",
        "\n",
        "Input : str = \"GEEKSFORGEEKS\"\n",
        "Output :13"
      ],
      "metadata": {
        "id": "QOMpXiuIUY9-"
      }
    },
    {
      "cell_type": "code",
      "source": [
        "def lengthOfString(s):\n",
        "    if s == \"\":\n",
        "        return 0\n",
        "    else:\n",
        "        return 1 + lengthOfString(s[1:])\n",
        "\n",
        "\n",
        "# Testing the function\n",
        "print(lengthOfString(\"abcd\"))  # Output: 4\n",
        "print(lengthOfString(\"GEEKSFORGEEKS\"))  # Output: 13\n"
      ],
      "metadata": {
        "colab": {
          "base_uri": "https://localhost:8080/"
        },
        "id": "W6Um9ZkeUdPe",
        "outputId": "548b48bb-3408-4c12-8640-61161046ea0e"
      },
      "execution_count": null,
      "outputs": [
        {
          "output_type": "stream",
          "name": "stdout",
          "text": [
            "4\n",
            "13\n"
          ]
        }
      ]
    },
    {
      "cell_type": "markdown",
      "source": [
        "#💡 **Question 5**\n",
        "\n",
        "We are given a string S, we need to find count of all contiguous substrings starting and ending with same character.\n",
        "\n",
        "**Examples :**\n",
        "Input  : S = \"abcab\"\n",
        "Output : 7\n",
        "There are 15 substrings of \"abcab\"\n",
        "a, ab, abc, abca, abcab, b, bc, bca\n",
        "bcab, c, ca, cab, a, ab, b\n",
        "Out of the above substrings, there\n",
        "are 7 substrings : a, abca, b, bcab,\n",
        "c, a and b.\n",
        "\n",
        "Input  : S = \"aba\"\n",
        "Output : 4\n",
        "The substrings are a, b, a and aba"
      ],
      "metadata": {
        "id": "jhGv4xqaUdle"
      }
    },
    {
      "cell_type": "code",
      "source": [
        "def countSubStrings(S):\n",
        "    count = 0\n",
        "    n = len(S)\n",
        "\n",
        "    for i in range(n):\n",
        "        count += 1\n",
        "        j = i + 1\n",
        "\n",
        "        while j < n:\n",
        "            if S[j] == S[i]:\n",
        "                count += 1\n",
        "                j += 1\n",
        "            else:\n",
        "                break\n",
        "\n",
        "    return count\n",
        "\n",
        "print(countSubStrings(\"abcab\"))\n",
        "print(countSubStrings(\"aba\"))"
      ],
      "metadata": {
        "colab": {
          "base_uri": "https://localhost:8080/"
        },
        "id": "w769q2M4UlU_",
        "outputId": "26f93f8d-7481-4b81-86ab-ee065a80e6cf"
      },
      "execution_count": null,
      "outputs": [
        {
          "output_type": "stream",
          "name": "stdout",
          "text": [
            "5\n",
            "3\n"
          ]
        }
      ]
    },
    {
      "cell_type": "markdown",
      "source": [
        "#💡 **Question 6**\n",
        "\n",
        "The [tower of Hanoi](https://en.wikipedia.org/wiki/Tower_of_Hanoi) is a famous puzzle where we have three rods and **N** disks. The objective of the puzzle is to move the entire stack to another rod. You are given the number of discs **N**. Initially, these discs are in the rod 1. You need to print all the steps of discs movement so that all the discs reach the 3rd rod. Also, you need to find the total moves.**Note:** The discs are arranged such that the **top disc is numbered 1** and the **bottom-most disc is numbered N**. Also, all the discs have **different sizes** and a bigger disc **cannot** be put on the top of a smaller disc. Refer the provided link to get a better clarity about the puzzle.\n",
        "\n",
        "**Example 1:**\n",
        "Input:\n",
        "N = 2\n",
        "Output:\n",
        "move disk 1 from rod 1 to rod 2\n",
        "move disk 2 from rod 1 to rod 3\n",
        "move disk 1 from rod 2 to rod 3\n",
        "3\n",
        "Explanation:For N=2 , steps will be\n",
        "as follows in the example and total\n",
        "3 steps will be taken.\n",
        "\n",
        "\n",
        "**Example 2:**\n",
        "Input:\n",
        "N = 3\n",
        "Output:\n",
        "move disk 1 from rod 1 to rod 3\n",
        "move disk 2 from rod 1 to rod 2\n",
        "move disk 1 from rod 3 to rod 2\n",
        "move disk 3 from rod 1 to rod 3\n",
        "move disk 1 from rod 2 to rod 1\n",
        "move disk 2 from rod 2 to rod 3\n",
        "move disk 1 from rod 1 to rod 3\n",
        "7\n",
        "Explanation:For N=3 , steps will be\n",
        "as follows in the example and total\n",
        "7 steps will be taken."
      ],
      "metadata": {
        "id": "yXetnh_aUloZ"
      }
    },
    {
      "cell_type": "code",
      "source": [
        "def towerOfHanoi(N, s, d, a):\n",
        "    if N == 1:\n",
        "        print(\"move disk 1 from rod\", s, \"to rod\", d)\n",
        "        return 1\n",
        "\n",
        "    count = 0\n",
        "    count += towerOfHanoi(N-1, s, a, d)\n",
        "    print(\"move disk\", N, \"from rod\", s, \"to rod\", d)\n",
        "    count += 1\n",
        "    count += towerOfHanoi(N-1, a, d, s)\n",
        "\n",
        "    return count\n",
        "\n",
        "N = 2\n",
        "print(\"Total moves:\", towerOfHanoi(N, 1, 3, 2))\n",
        "\n",
        "N = 3\n",
        "print(\"Total moves:\", towerOfHanoi(N, 1, 3, 2))\n"
      ],
      "metadata": {
        "colab": {
          "base_uri": "https://localhost:8080/"
        },
        "id": "rY9dd9qSU0Wu",
        "outputId": "3e5cd3b7-fb4b-473c-b234-a690b77ab69b"
      },
      "execution_count": null,
      "outputs": [
        {
          "output_type": "stream",
          "name": "stdout",
          "text": [
            "move disk 1 from rod 1 to rod 2\n",
            "move disk 2 from rod 1 to rod 3\n",
            "move disk 1 from rod 2 to rod 3\n",
            "Total moves: 3\n",
            "move disk 1 from rod 1 to rod 3\n",
            "move disk 2 from rod 1 to rod 2\n",
            "move disk 1 from rod 3 to rod 2\n",
            "move disk 3 from rod 1 to rod 3\n",
            "move disk 1 from rod 2 to rod 1\n",
            "move disk 2 from rod 2 to rod 3\n",
            "move disk 1 from rod 1 to rod 3\n",
            "Total moves: 7\n"
          ]
        }
      ]
    },
    {
      "cell_type": "markdown",
      "source": [
        "#💡 **Question 7**\n",
        "\n",
        "Given a string **str**, the task is to print all the permutations of **str**. A **permutation** is an arrangement of all or part of a set of objects, with regard to the order of the arrangement. For instance, the words ‘bat’ and ‘tab’ represents two distinct permutation (or arrangements) of a similar three letter word.\n",
        "\n",
        "**Examples:**\n",
        "\n",
        " Input: str = “cd”\n",
        "  \n",
        " **Output:** cd dc\n",
        " \n",
        " **Input:** str = “abb”\n",
        " \n",
        " **Output:** abb abb bab bba bab bba\n"
      ],
      "metadata": {
        "id": "0Qjl3RuMU0w-"
      }
    },
    {
      "cell_type": "code",
      "source": [
        "def permutations(s, l, r):\n",
        "    if l == r:\n",
        "        print(''.join(s))\n",
        "    else:\n",
        "        for i in range(l, r + 1):\n",
        "            s[l], s[i] = s[i], s[l]\n",
        "            permutations(s, l + 1, r)\n",
        "            s[l], s[i] = s[i], s[l]\n",
        "\n",
        "def printPermutations(str):\n",
        "    n = len(str)\n",
        "    s = list(str)\n",
        "    permutations(s, 0, n - 1)\n",
        "\n",
        "printPermutations(\"cd\")\n",
        "printPermutations(\"abb\")"
      ],
      "metadata": {
        "colab": {
          "base_uri": "https://localhost:8080/"
        },
        "id": "GBlX7jxRU_2g",
        "outputId": "bfbf8da0-d7c1-4e13-c512-be2e9a6a87a0"
      },
      "execution_count": null,
      "outputs": [
        {
          "output_type": "stream",
          "name": "stdout",
          "text": [
            "cd\n",
            "dc\n",
            "abb\n",
            "abb\n",
            "bab\n",
            "bba\n",
            "bba\n",
            "bab\n"
          ]
        }
      ]
    },
    {
      "cell_type": "markdown",
      "source": [
        "#💡 **Question 8**\n",
        "\n",
        "Given a string, count total number of consonants in it. A consonant is an English alphabet character that is not vowel (a, e, i, o and u). Examples of constants are b, c, d, f, and g.\n",
        "\n",
        "**Examples :**\n",
        "Input : abc de\n",
        "Output : 3\n",
        "There are three consonants b, c and d.\n",
        "\n",
        "Input : geeksforgeeks portal\n",
        "Output : 12"
      ],
      "metadata": {
        "id": "d6mBgitpVAOX"
      }
    },
    {
      "cell_type": "code",
      "source": [
        "def countOfConsonant(s):\n",
        "    consonants = \"bcdfghjklmnpqrstvwxyz\"\n",
        "    count = 0\n",
        "\n",
        "    for char in s:\n",
        "        if char.lower() in consonants:\n",
        "            count += 1\n",
        "\n",
        "    return count\n",
        "\n",
        "\n",
        "# Testing the function\n",
        "print(countOfConsonant(\"abc de\"))\n",
        "print(countOfConsonant(\"geeksforgeeks portal\"))"
      ],
      "metadata": {
        "colab": {
          "base_uri": "https://localhost:8080/"
        },
        "id": "imk_jZvUVHee",
        "outputId": "a0d1bdd3-2236-4685-ab7b-600a18e062b0"
      },
      "execution_count": null,
      "outputs": [
        {
          "output_type": "stream",
          "name": "stdout",
          "text": [
            "3\n",
            "12\n"
          ]
        }
      ]
    }
  ]
}