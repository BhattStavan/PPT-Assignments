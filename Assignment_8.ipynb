{
  "nbformat": 4,
  "nbformat_minor": 0,
  "metadata": {
    "colab": {
      "provenance": []
    },
    "kernelspec": {
      "name": "python3",
      "display_name": "Python 3"
    },
    "language_info": {
      "name": "python"
    }
  },
  "cells": [
    {
      "cell_type": "markdown",
      "source": [
        "#**Assignment -8**"
      ],
      "metadata": {
        "id": "OgM37xFE_g9_"
      }
    },
    {
      "cell_type": "markdown",
      "source": [
        "#\n",
        "💡 **Question 1**\n",
        "\n",
        "Given two strings s1 and s2, return *the lowest **ASCII** sum of deleted characters to make two strings equal*.\n",
        "\n",
        "**Example 1:**\n",
        "\n",
        "**Input:** s1 = \"sea\", s2 = \"eat\"\n",
        "\n",
        "**Output:** 231\n",
        "\n",
        "**Explanation:** Deleting \"s\" from \"sea\" adds the ASCII value of \"s\" (115) to the sum.\n",
        "\n",
        "Deleting \"t\" from \"eat\" adds 116 to the sum.\n",
        "\n",
        "At the end, both strings are equal, and 115 + 116 = 231 is the minimum sum possible to achieve this."
      ],
      "metadata": {
        "id": "Qj6nFcrr-Exl"
      }
    },
    {
      "cell_type": "code",
      "execution_count": null,
      "metadata": {
        "colab": {
          "base_uri": "https://localhost:8080/"
        },
        "id": "yY7YNGwu9-4V",
        "outputId": "4aa34f44-8565-4b9f-fdfe-d93919848baa"
      },
      "outputs": [
        {
          "output_type": "stream",
          "name": "stdout",
          "text": [
            "Enter String 1 :- sea\n",
            "Enter String 2 :- eat\n",
            "231\n"
          ]
        }
      ],
      "source": [
        "def lowestASCII(s1, s2):\n",
        "    m, n = len(s1), len(s2)\n",
        "\n",
        "    d = [[0] * (n + 1) for _ in range(m + 1)]\n",
        "\n",
        "    for i in range(1, m + 1):\n",
        "        d[i][0] = d[i - 1][0] + ord(s1[i - 1])\n",
        "    for j in range(1, n + 1):\n",
        "        d[0][j] = d[0][j - 1] + ord(s2[j - 1])\n",
        "\n",
        "    for i in range(1, m + 1):\n",
        "        for j in range(1, n + 1):\n",
        "            if s1[i - 1] == s2[j - 1]:\n",
        "                d[i][j] = d[i - 1][j - 1]\n",
        "            else:\n",
        "                d[i][j] = min(d[i - 1][j] + ord(s1[i - 1]), d[i][j - 1] + ord(s2[j - 1]))\n",
        "\n",
        "    return d[m][n]\n",
        "\n",
        "string1 = input(\"Enter String 1 :- \")\n",
        "string2 = input(\"Enter String 2 :- \")\n",
        "result = lowestASCII(string1, string2)\n",
        "print(result)\n"
      ]
    },
    {
      "cell_type": "markdown",
      "source": [
        "#\n",
        "💡 **Question 2**\n",
        "\n",
        "Given a string s containing only three types of characters: '(', ')' and '*', return true *if* s *is **valid***.\n",
        "\n",
        "The following rules define a **valid** string:\n",
        "\n",
        "- Any left parenthesis '(' must have a corresponding right parenthesis ')'.\n",
        "- Any right parenthesis ')' must have a corresponding left parenthesis '('.\n",
        "- Left parenthesis '(' must go before the corresponding right parenthesis ')'.\n",
        "- '*' could be treated as a single right parenthesis ')' or a single left parenthesis '(' or an empty string \"\".\n",
        "\n",
        "**Example 1:**\n",
        "\n",
        "**Input:** s = \"()\"\n",
        "\n",
        "**Output:**\n",
        "\n",
        "true"
      ],
      "metadata": {
        "id": "apBrcBei-Ide"
      }
    },
    {
      "cell_type": "code",
      "source": [
        "def checkValidString(s):\n",
        "    characters = []\n",
        "    star = []\n",
        "\n",
        "    for i, char in enumerate(s):\n",
        "        if char == '(':\n",
        "            characters.append(i)\n",
        "        elif char == '*':\n",
        "            star.append(i)\n",
        "        else:\n",
        "            if characters:\n",
        "                characters.pop()\n",
        "            elif star:\n",
        "                star.pop()\n",
        "            else:\n",
        "                return False\n",
        "\n",
        "    while characters and star:\n",
        "        if characters[-1] > star[-1]:\n",
        "            return False\n",
        "        characters.pop()\n",
        "        star.pop()\n",
        "\n",
        "    return len(characters) == 0\n",
        "\n",
        "s = \"()\"\n",
        "result = checkValidString(s)\n",
        "print(result)"
      ],
      "metadata": {
        "colab": {
          "base_uri": "https://localhost:8080/"
        },
        "id": "aF2KvBQd-NDZ",
        "outputId": "a58b42f7-8311-4da4-9771-15ba8eb48bea"
      },
      "execution_count": null,
      "outputs": [
        {
          "output_type": "stream",
          "name": "stdout",
          "text": [
            "True\n"
          ]
        }
      ]
    },
    {
      "cell_type": "markdown",
      "source": [
        "#\n",
        "💡 **Question 3**\n",
        "\n",
        "Given two strings word1 and word2, return *the minimum number of **steps** required to make* word1 *and* word2 *the same*.\n",
        "\n",
        "In one **step**, you can delete exactly one character in either string.\n",
        "\n",
        "**Example 1:**\n",
        "\n",
        "**Input:** word1 = \"sea\", word2 = \"eat\"\n",
        "\n",
        "**Output:** 2\n",
        "\n",
        "**Explanation:** You need one step to make \"sea\" to \"ea\" and another step to make \"eat\" to \"ea\"."
      ],
      "metadata": {
        "id": "qMIQIZlj-NdZ"
      }
    },
    {
      "cell_type": "code",
      "source": [
        "def minimumDistance(s1, s2):\n",
        "    m, n = len(s1), len(s2)\n",
        "\n",
        "    d = [[0] * (n + 1) for _ in range(m + 1)]\n",
        "\n",
        "    for i in range(1, m + 1):\n",
        "        d[i][0] = i\n",
        "    for j in range(1, n + 1):\n",
        "        d[0][j] = j\n",
        "\n",
        "    for i in range(1, m + 1):\n",
        "        for j in range(1, n + 1):\n",
        "            if s1[i - 1] == s2[j - 1]:\n",
        "                d[i][j] = d[i - 1][j - 1]\n",
        "            else:\n",
        "                d[i][j] = min(d[i - 1][j] + 1, d[i][j - 1] + 1)\n",
        "\n",
        "    return d[m][n]\n",
        "\n",
        "string1 = \"sea\"\n",
        "string2 = \"eat\"\n",
        "result = minimumDistance(string1, string2)\n",
        "print(result)\n"
      ],
      "metadata": {
        "colab": {
          "base_uri": "https://localhost:8080/"
        },
        "id": "sHUXauxw-TNx",
        "outputId": "3bed5393-3a48-42d0-b08b-bcc70f265ba5"
      },
      "execution_count": null,
      "outputs": [
        {
          "output_type": "stream",
          "name": "stdout",
          "text": [
            "2\n"
          ]
        }
      ]
    },
    {
      "cell_type": "markdown",
      "source": [
        "#\n",
        "💡 **Question 4**\n",
        "\n",
        "You need to construct a binary tree from a string consisting of parenthesis and integers.\n",
        "\n",
        "The whole input represents a binary tree. It contains an integer followed by zero, one or two pairs of parenthesis. The integer represents the root's value and a pair of parenthesis contains a child binary tree with the same structure.\n",
        "You always start to construct the **left** child node of the parent first if it exists.\n",
        "**Input:** s = \"4(2(3)(1))(6(5))\"\n",
        "\n",
        "**Output:** [4,2,6,3,1,5]"
      ],
      "metadata": {
        "id": "pXxZXWCR-TgC"
      }
    },
    {
      "cell_type": "code",
      "source": [],
      "metadata": {
        "id": "EME3P5i_-YS7"
      },
      "execution_count": null,
      "outputs": []
    },
    {
      "cell_type": "markdown",
      "source": [
        "#\n",
        "💡 **Question 5**\n",
        "\n",
        "Given an array of characters chars, compress it using the following algorithm:\n",
        "\n",
        "Begin with an empty string s. For each group of **consecutive repeating characters** in chars:\n",
        "\n",
        "- If the group's length is 1, append the character to s.\n",
        "- Otherwise, append the character followed by the group's length.\n",
        "\n",
        "The compressed string s **should not be returned separately**, but instead, be stored **in the input character array chars**. Note that group lengths that are 10 or longer will be split into multiple characters in chars.\n",
        "\n",
        "After you are done **modifying the input array,** return *the new length of the array*.\n",
        "\n",
        "You must write an algorithm that uses only constant extra space.\n",
        "\n",
        "**Example 1:**\n",
        "\n",
        "**Input:** chars = [\"a\",\"a\",\"b\",\"b\",\"c\",\"c\",\"c\"]\n",
        "\n",
        "**Output:** Return 6, and the first 6 characters of the input array should be: [\"a\",\"2\",\"b\",\"2\",\"c\",\"3\"]\n",
        "\n",
        "**Explanation:**\n",
        "\n",
        "The groups are \"aa\", \"bb\", and \"ccc\". This compresses to \"a2b2c3\"."
      ],
      "metadata": {
        "id": "eUYOY6b--YrY"
      }
    },
    {
      "cell_type": "code",
      "source": [],
      "metadata": {
        "id": "7WnIqdET-lNR"
      },
      "execution_count": null,
      "outputs": []
    },
    {
      "cell_type": "markdown",
      "source": [
        "#\n",
        "💡 **Question 6**\n",
        "\n",
        "Given two strings s and p, return *an array of all the start indices of* p*'s anagrams in* s. You may return the answer in **any order**.\n",
        "\n",
        "An **Anagram** is a word or phrase formed by rearranging the letters of a different word or phrase, typically using all the original letters exactly once.\n",
        "\n",
        "**Example 1:**\n",
        "\n",
        "**Input:** s = \"cbaebabacd\", p = \"abc\"\n",
        "\n",
        "**Output:** [0,6]\n",
        "\n",
        "**Explanation:**\n",
        "\n",
        "The substring with start index = 0 is \"cba\", which is an anagram of \"abc\".\n",
        "\n",
        "The substring with start index = 6 is \"bac\", which is an anagram of \"abc\"."
      ],
      "metadata": {
        "id": "rz0_KpP4-lj7"
      }
    },
    {
      "cell_type": "code",
      "source": [
        "from collections import Counter\n",
        "\n",
        "def Anagrams(s, p):\n",
        "    r = []\n",
        "    pCount = Counter(p)\n",
        "    wCount = Counter(s[:len(p)])\n",
        "\n",
        "    if pCount == wCount:\n",
        "        r.append(0)\n",
        "\n",
        "    for i in range(1, len(s) - len(p) + 1):\n",
        "        wCount[s[i - 1]] -= 1\n",
        "        if wCount[s[i - 1]] == 0:\n",
        "            del wCount[s[i - 1]]\n",
        "        wCount[s[i + len(p) - 1]] += 1\n",
        "\n",
        "        if pCount == wCount:\n",
        "            r.append(i)\n",
        "\n",
        "    return r\n",
        "\n",
        "\n",
        "s = \"cbaebabacd\"\n",
        "p = \"abc\"\n",
        "result = Anagrams(s, p)\n",
        "print(result)\n"
      ],
      "metadata": {
        "colab": {
          "base_uri": "https://localhost:8080/"
        },
        "id": "zzZIBd9E-py3",
        "outputId": "8ce23249-d12d-40ea-a9f7-05fd554cd6a4"
      },
      "execution_count": null,
      "outputs": [
        {
          "output_type": "stream",
          "name": "stdout",
          "text": [
            "[0, 6]\n"
          ]
        }
      ]
    },
    {
      "cell_type": "markdown",
      "source": [
        "#\n",
        "💡 **Question 7**\n",
        "\n",
        "Given an encoded string, return its decoded string.\n",
        "\n",
        "The encoding rule is: k[encoded_string], where the encoded_string inside the square brackets is being repeated exactly k times. Note that k is guaranteed to be a positive integer.\n",
        "\n",
        "You may assume that the input string is always valid; there are no extra white spaces, square brackets are well-formed, etc. Furthermore, you may assume that the original data does not contain any digits and that digits are only for those repeat numbers, k. For example, there will not be input like 3a or 2[4].\n",
        "\n",
        "The test cases are generated so that the length of the output will never exceed 105.\n",
        "\n",
        "**Example 1:**\n",
        "\n",
        "**Input:** s = \"3[a]2[bc]\"\n",
        "\n",
        "**Output:** \"aaabcbc\""
      ],
      "metadata": {
        "id": "FK3CxRi--qNQ"
      }
    },
    {
      "cell_type": "code",
      "source": [
        "def decode(s):\n",
        "    k = []\n",
        "    current_string = \"\"\n",
        "    current_count = 0\n",
        "\n",
        "    for char in s:\n",
        "        if char.isdigit():\n",
        "            current_count = current_count * 10 + int(char)\n",
        "        elif char == \"[\":\n",
        "            k.append(current_string)\n",
        "            k.append(current_count)\n",
        "            current_string = \"\"\n",
        "            current_count = 0\n",
        "        elif char == \"]\":\n",
        "            count = k.pop()\n",
        "            prev_string = k.pop()\n",
        "            current_string = prev_string + count * current_string\n",
        "        else:\n",
        "            current_string += char\n",
        "\n",
        "    return current_string\n",
        "\n",
        "string = \"3[a]2[bc]\"\n",
        "result = decode(string)\n",
        "print(result)"
      ],
      "metadata": {
        "colab": {
          "base_uri": "https://localhost:8080/"
        },
        "id": "KMxNRp-r-uc7",
        "outputId": "13fcc51a-ef8d-4af9-ae6c-943ac64be6e1"
      },
      "execution_count": null,
      "outputs": [
        {
          "output_type": "stream",
          "name": "stdout",
          "text": [
            "aaabcbc\n"
          ]
        }
      ]
    },
    {
      "cell_type": "markdown",
      "source": [
        "#\n",
        "💡 **Question 8**\n",
        "\n",
        "Given two strings s and goal, return true *if you can swap two letters in* s *so the result is equal to* goal*, otherwise, return* false*.*\n",
        "\n",
        "Swapping letters is defined as taking two indices i and j (0-indexed) such that i != j and swapping the characters at s[i] and s[j].\n",
        "\n",
        "- For example, swapping at indices 0 and 2 in \"abcd\" results in \"cbad\".\n",
        "\n",
        "**Example 1:**\n",
        "\n",
        "**Input:** s = \"ab\", goal = \"ba\"\n",
        "\n",
        "**Output:** true\n",
        "\n",
        "**Explanation:** You can swap s[0] = 'a' and s[1] = 'b' to get \"ba\", which is equal to goal."
      ],
      "metadata": {
        "id": "vCAC-ILL-u0v"
      }
    },
    {
      "cell_type": "code",
      "source": [
        "def twoStrings(s, g):\n",
        "    if len(s) != len(g):\n",
        "        return False\n",
        "\n",
        "    if s == g:\n",
        "        seen = set()\n",
        "        for char in s:\n",
        "            if char in seen:\n",
        "                return True\n",
        "            seen.add(char)\n",
        "        return False\n",
        "\n",
        "    pairs = []\n",
        "    for char_s, char_g in zip(s, g):\n",
        "        if char_s != char_g:\n",
        "            pairs.append((char_s, char_g))\n",
        "\n",
        "    return len(pairs) == 2 and pairs[0] == pairs[1][::-1]\n",
        "\n",
        "s = \"ab\"\n",
        "g = \"ba\"\n",
        "result = twoStrings(s, g)\n",
        "print(result)"
      ],
      "metadata": {
        "colab": {
          "base_uri": "https://localhost:8080/"
        },
        "id": "mv06anBi-yso",
        "outputId": "77dd66d2-996b-417a-af71-6f033918063d"
      },
      "execution_count": null,
      "outputs": [
        {
          "output_type": "stream",
          "name": "stdout",
          "text": [
            "True\n"
          ]
        }
      ]
    }
  ]
}