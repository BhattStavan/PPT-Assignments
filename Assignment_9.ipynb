{
  "nbformat": 4,
  "nbformat_minor": 0,
  "metadata": {
    "colab": {
      "provenance": []
    },
    "kernelspec": {
      "name": "python3",
      "display_name": "Python 3"
    },
    "language_info": {
      "name": "python"
    }
  },
  "cells": [
    {
      "cell_type": "markdown",
      "source": [
        "#\n",
        "💡 **Question 1**\n",
        "\n",
        "Given an integer `n`, return *`true` if it is a power of two. Otherwise, return `false`*.\n",
        "\n",
        "An integer `n` is a power of two, if there exists an integer `x` such that `n == 2x`.\n",
        "\n",
        "**Example 1:**\n",
        "Input: n = 1 \n",
        "\n",
        "Output: true\n",
        "\n",
        "**Example 2:**\n",
        "Input: n = 16 \n",
        "\n",
        "Output: true\n",
        "\n",
        "**Example 3:**\n",
        "Input: n = 3 \n",
        "\n",
        "Output: false"
      ],
      "metadata": {
        "id": "wYQG8riH-3Wg"
      }
    },
    {
      "cell_type": "code",
      "execution_count": 1,
      "metadata": {
        "id": "kt3b_OSY-1OQ",
        "colab": {
          "base_uri": "https://localhost:8080/"
        },
        "outputId": "1f9f104c-d576-4f5f-fc0a-e647788da683"
      },
      "outputs": [
        {
          "output_type": "stream",
          "name": "stdout",
          "text": [
            "True\n",
            "True\n",
            "False\n"
          ]
        }
      ],
      "source": [
        "def isPowerOfTwo(n):\n",
        "    if n <= 0:\n",
        "        return False\n",
        "\n",
        "    return (n & (n - 1)) == 0\n",
        "\n",
        "print(isPowerOfTwo(1))\n",
        "print(isPowerOfTwo(16))\n",
        "print(isPowerOfTwo(3))"
      ]
    },
    {
      "cell_type": "markdown",
      "source": [
        "#\n",
        "💡 **Question 2**\n",
        "\n",
        "Given a number n, find the sum of the first natural numbers.\n",
        "\n",
        "**Example 1:**\n",
        "\n",
        "Input: n = 3 \n",
        "\n",
        "Output: 6\n",
        "\n",
        "**Example 2:**\n",
        "\n",
        "Input  : 5 \n",
        "\n",
        "Output : 15"
      ],
      "metadata": {
        "id": "od46Gy6g-8ZS"
      }
    },
    {
      "cell_type": "code",
      "source": [
        "def sumOfFirstNNums(n):\n",
        "    return (n * (n + 1)) // 2\n",
        "\n",
        "print(sumOfFirstNNums(3))\n",
        "print(sumOfFirstNNums(5))"
      ],
      "metadata": {
        "id": "dtWfmLrG_D8R",
        "colab": {
          "base_uri": "https://localhost:8080/"
        },
        "outputId": "d35f779d-0f83-49e3-d4d3-cb2db90227bb"
      },
      "execution_count": 2,
      "outputs": [
        {
          "output_type": "stream",
          "name": "stdout",
          "text": [
            "6\n",
            "15\n"
          ]
        }
      ]
    },
    {
      "cell_type": "markdown",
      "source": [
        "#\n",
        "💡 **Question 3**\n",
        "\n",
        "****Given a positive integer, N. Find the factorial of N. \n",
        "\n",
        "**Example 1:**\n",
        "\n",
        "Input: N = 5 \n",
        "\n",
        "Output: 120\n",
        "\n",
        "**Example 2:**\n",
        "\n",
        "Input: N = 4\n",
        "\n",
        "Output: 24"
      ],
      "metadata": {
        "id": "gTKEMFI0_ENz"
      }
    },
    {
      "cell_type": "code",
      "source": [
        "n = int(input(\"Enter Any Number :- \"))\n",
        "fact = 1\n",
        "for i in range(1, n+1):\n",
        "  fact = fact * i\n",
        "print(fact)"
      ],
      "metadata": {
        "id": "yiO3mDCl_GXw",
        "colab": {
          "base_uri": "https://localhost:8080/"
        },
        "outputId": "81a9e692-8390-41ac-d005-9fdac1dfd187"
      },
      "execution_count": null,
      "outputs": [
        {
          "output_type": "stream",
          "name": "stdout",
          "text": [
            "Enter Any Number :- 5\n",
            "120\n"
          ]
        }
      ]
    },
    {
      "cell_type": "markdown",
      "source": [
        "#\n",
        "💡 **Question 4**\n",
        "\n",
        "Given a number N and a power P, the task is to find the exponent of this number raised to the given power, i.e. N^P.\n",
        "\n",
        "**Example 1 :** \n",
        "\n",
        "Input: N = 5, P = 2\n",
        "\n",
        "Output: 25\n",
        "\n",
        "**Example 2 :**\n",
        "Input: N = 2, P = 5\n",
        "\n",
        "Output: 32"
      ],
      "metadata": {
        "id": "IQU-jygK_Gr-"
      }
    },
    {
      "cell_type": "code",
      "source": [
        "def power(N, P):\n",
        "    return N ** P\n",
        "\n",
        "print(power(5, 2))\n",
        "print(power(2, 5))"
      ],
      "metadata": {
        "id": "7zrrbz_V_KXf",
        "colab": {
          "base_uri": "https://localhost:8080/"
        },
        "outputId": "4319b60c-892d-4895-eac4-4b9f589216dd"
      },
      "execution_count": 3,
      "outputs": [
        {
          "output_type": "stream",
          "name": "stdout",
          "text": [
            "25\n",
            "32\n"
          ]
        }
      ]
    },
    {
      "cell_type": "markdown",
      "source": [
        "#\n",
        "💡 **Question 5**\n",
        "\n",
        "Given an array of integers **arr**, the task is to find maximum element of that array using recursion.\n",
        "\n",
        "**Example 1:**\n",
        "\n",
        "Input: arr = {1, 4, 3, -5, -4, 8, 6};\n",
        "Output: 8\n",
        "\n",
        "**Example 2:**\n",
        "\n",
        "Input: arr = {1, 4, 45, 6, 10, -8};\n",
        "Output: 45"
      ],
      "metadata": {
        "id": "vjsbRlDl_Kon"
      }
    },
    {
      "cell_type": "code",
      "source": [
        "def findMax(arr, n):\n",
        "    if n == 1:\n",
        "        return arr[0]\n",
        "    return max(arr[n - 1], findMax(arr, n - 1))\n",
        "\n",
        "arr1 = [1, 4, 3, -5, -4, 8, 6]\n",
        "n1 = len(arr1)\n",
        "print(findMax(arr1, n1))\n",
        "\n",
        "arr2 = [1, 4, 45, 6, 10, -8]\n",
        "n2 = len(arr2)\n",
        "print(findMax(arr2, n2))"
      ],
      "metadata": {
        "id": "gzg5b9gR_Ns4",
        "colab": {
          "base_uri": "https://localhost:8080/"
        },
        "outputId": "75d6c905-5286-4acf-b6f8-0ad982bb07dc"
      },
      "execution_count": 4,
      "outputs": [
        {
          "output_type": "stream",
          "name": "stdout",
          "text": [
            "8\n",
            "45\n"
          ]
        }
      ]
    },
    {
      "cell_type": "markdown",
      "source": [
        "#\n",
        "💡 **Question 6**\n",
        "\n",
        "Given first term (a), common difference (d) and a integer N of the Arithmetic Progression series, the task is to find Nth term of the series.\n",
        "\n",
        "**Example 1:**\n",
        "\n",
        "Input : a = 2 d = 1 N = 5\n",
        "Output : 6\n",
        "The 5th term of the series is : 6\n",
        "\n",
        "**Example 2:**\n",
        "\n",
        "Input : a = 5 d = 2 N = 10\n",
        "Output : 23\n",
        "The 10th term of the series is : 23"
      ],
      "metadata": {
        "id": "wvU6WTil_N_u"
      }
    },
    {
      "cell_type": "code",
      "source": [
        "def nTermOfArithmeticProgression(a, d, N):\n",
        "    return a + (N - 1) * d\n",
        "\n",
        "print(nTermOfArithmeticProgression(2, 1, 5))\n",
        "print(nTermOfArithmeticProgression(5, 2, 10))"
      ],
      "metadata": {
        "id": "qzQzmEvA_R7Q",
        "colab": {
          "base_uri": "https://localhost:8080/"
        },
        "outputId": "febf08f5-9b30-42da-9222-fd443c116a18"
      },
      "execution_count": 6,
      "outputs": [
        {
          "output_type": "stream",
          "name": "stdout",
          "text": [
            "6\n",
            "23\n"
          ]
        }
      ]
    },
    {
      "cell_type": "markdown",
      "source": [
        "#\n",
        "💡 **Question 7**\n",
        "\n",
        "Given a string S, the task is to write a program to print all permutations of a given string.\n",
        "\n",
        "**Example 1:**\n",
        "\n",
        "***Input:***\n",
        "\n",
        "*S = “ABC”*\n",
        "\n",
        "***Output:***\n",
        "\n",
        "*“ABC”, “ACB”, “BAC”, “BCA”, “CBA”, “CAB”*\n",
        "\n",
        "**Example 2:**\n",
        "\n",
        "***Input:***\n",
        "\n",
        "*S = “XY”*\n",
        "\n",
        "***Output:***\n",
        "\n",
        "*“XY”, “YX”*"
      ],
      "metadata": {
        "id": "6l6n6CkO_SRL"
      }
    },
    {
      "cell_type": "code",
      "source": [
        "def permute(s, l, r):\n",
        "    if l == r:\n",
        "        print(\"\".join(s))\n",
        "    else:\n",
        "        for i in range(l, r + 1):\n",
        "            s[l], s[i] = s[i], s[l]\n",
        "            permute(s, l + 1, r)\n",
        "            s[l], s[i] = s[i], s[l]\n",
        "\n",
        "\n",
        "def printPermutations(S):\n",
        "    n = len(S)\n",
        "    s = list(S)\n",
        "    permute(s, 0, n - 1)\n",
        "\n",
        "printPermutations(\"ABC\")\n",
        "printPermutations(\"XY\")"
      ],
      "metadata": {
        "id": "5nBhgUCN_WRZ",
        "colab": {
          "base_uri": "https://localhost:8080/"
        },
        "outputId": "63f35df6-c5b8-4866-a042-e92e00fa2ec0"
      },
      "execution_count": 7,
      "outputs": [
        {
          "output_type": "stream",
          "name": "stdout",
          "text": [
            "ABC\n",
            "ACB\n",
            "BAC\n",
            "BCA\n",
            "CBA\n",
            "CAB\n",
            "XY\n",
            "YX\n"
          ]
        }
      ]
    },
    {
      "cell_type": "markdown",
      "source": [
        "#\n",
        "💡 **Question 8**\n",
        "\n",
        "Given an array, find a product of all array elements.\n",
        "\n",
        "**Example 1:**\n",
        "\n",
        "Input  : arr[] = {1, 2, 3, 4, 5}\n",
        "Output : 120\n",
        "\n",
        "**Example 2:**\n",
        "\n",
        "Input  : arr[] = {1, 6, 3}\n",
        "Output : 18"
      ],
      "metadata": {
        "id": "SN6qeXL1_WlO"
      }
    },
    {
      "cell_type": "code",
      "source": [
        "def productOfArray(arr):\n",
        "    product = 1\n",
        "    for num in arr:\n",
        "        product *= num\n",
        "    return product\n",
        "\n",
        "arr1 = [1, 2, 3, 4, 5]\n",
        "print(productOfArray(arr1))\n",
        "\n",
        "arr2 = [1, 6, 3]\n",
        "print(productOfArray(arr2))"
      ],
      "metadata": {
        "id": "tdXd-_Xt_cx0",
        "colab": {
          "base_uri": "https://localhost:8080/"
        },
        "outputId": "0cbcee8d-36f1-4f4b-9fa7-02a3c8da664d"
      },
      "execution_count": 8,
      "outputs": [
        {
          "output_type": "stream",
          "name": "stdout",
          "text": [
            "120\n",
            "18\n"
          ]
        }
      ]
    }
  ]
}